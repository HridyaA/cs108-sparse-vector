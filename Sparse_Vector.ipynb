{
  "nbformat": 4,
  "nbformat_minor": 0,
  "metadata": {
    "colab": {
      "provenance": []
    },
    "kernelspec": {
      "name": "python3",
      "display_name": "Python 3"
    },
    "language_info": {
      "name": "python"
    }
  },
  "cells": [
    {
      "cell_type": "markdown",
      "source": [
        "# **Sparse Vector**\n",
        "The sparse vector technique (SVT) takes a stream of queries and a predefined public threshold T. It returns the identities (not values) of the first k queries that are likely larger than the threshold, and nothing else. No matter how many queries are passed to the Sparse Vector Technique, it has a fixed total privacy cost."
      ],
      "metadata": {
        "id": "4PgwbA-4Y8HU"
      }
    },
    {
      "cell_type": "markdown",
      "source": [
        "**Definitions**\n",
        "\n",
        "* ε: also known as the privacy budget, and it controls the level of privacy - the smaller the ε, the more privacy is guaranteed. \n",
        "\n",
        "* Threshold: the value that is used to determine whether a sensitive data item should be included in an analysis or not.\n",
        "\n",
        "* Sensitivity: the maximum amount that the output of a computation can change when a single individual's data is added or removed from the input data set. \n",
        "\n",
        "* Laplace mechanism: used to add noise to a function's ouput, and the idea is to add the random noise drawn from the Laplace distribution to the function's output with the scale parameter. The amount added is determined by the desired privacy level and the sensitivity of the function.\n"
      ],
      "metadata": {
        "id": "Nr_WpXMuO3Ps"
      }
    },
    {
      "cell_type": "code",
      "source": [
        "# import libraries and csv\n",
        "\n",
        "import pandas as pd\n",
        "import numpy as np\n",
        "import random\n",
        "import matplotlib.pyplot as plt\n",
        "\n",
        "df = pd.read_csv('adult_with_pii.csv')\n",
        "df.head()"
      ],
      "metadata": {
        "id": "SrTONzfoQ-8e",
        "colab": {
          "base_uri": "https://localhost:8080/",
          "height": 458
        },
        "outputId": "cf98b814-e739-45b8-d7e2-4c584e1bb765"
      },
      "execution_count": 2,
      "outputs": [
        {
          "output_type": "execute_result",
          "data": {
            "text/plain": [
              "               Name        DOB          SSN      Zip   Age         Workclass  \\\n",
              "0  Karrie Trusslove   9/7/1967  732-14-6110  64152.0  39.0         State-gov   \n",
              "1  Brandise Tripony   6/7/1988  150-19-2766  61523.0  50.0  Self-emp-not-inc   \n",
              "2     Brenn McNeely   8/6/1991  725-59-9860  95668.0  38.0           Private   \n",
              "3       Dorry Poter   4/6/2009  659-57-4974  25503.0  53.0           Private   \n",
              "4       Dick Honnan  9/16/1951  220-93-3811  75387.0  28.0           Private   \n",
              "\n",
              "     fnlwgt  Education  Education-Num      Marital Status         Occupation  \\\n",
              "0   77516.0  Bachelors           13.0       Never-married       Adm-clerical   \n",
              "1   83311.0  Bachelors           13.0  Married-civ-spouse    Exec-managerial   \n",
              "2  215646.0    HS-grad            9.0            Divorced  Handlers-cleaners   \n",
              "3  234721.0       11th            7.0  Married-civ-spouse  Handlers-cleaners   \n",
              "4  338409.0  Bachelors           13.0  Married-civ-spouse     Prof-specialty   \n",
              "\n",
              "    Relationship   Race     Sex  Capital Gain  Capital Loss  Hours per week  \\\n",
              "0  Not-in-family  White    Male        2174.0           0.0            40.0   \n",
              "1        Husband  White    Male           0.0           0.0            13.0   \n",
              "2  Not-in-family  White    Male           0.0           0.0            40.0   \n",
              "3        Husband  Black    Male           0.0           0.0            40.0   \n",
              "4           Wife  Black  Female           0.0           0.0            40.0   \n",
              "\n",
              "         Country Target  \n",
              "0  United-States  <=50K  \n",
              "1  United-States  <=50K  \n",
              "2  United-States  <=50K  \n",
              "3  United-States  <=50K  \n",
              "4           Cuba  <=50K  "
            ],
            "text/html": [
              "\n",
              "  <div id=\"df-a46cc2d9-ff83-40a9-9d14-59a1317e078f\">\n",
              "    <div class=\"colab-df-container\">\n",
              "      <div>\n",
              "<style scoped>\n",
              "    .dataframe tbody tr th:only-of-type {\n",
              "        vertical-align: middle;\n",
              "    }\n",
              "\n",
              "    .dataframe tbody tr th {\n",
              "        vertical-align: top;\n",
              "    }\n",
              "\n",
              "    .dataframe thead th {\n",
              "        text-align: right;\n",
              "    }\n",
              "</style>\n",
              "<table border=\"1\" class=\"dataframe\">\n",
              "  <thead>\n",
              "    <tr style=\"text-align: right;\">\n",
              "      <th></th>\n",
              "      <th>Name</th>\n",
              "      <th>DOB</th>\n",
              "      <th>SSN</th>\n",
              "      <th>Zip</th>\n",
              "      <th>Age</th>\n",
              "      <th>Workclass</th>\n",
              "      <th>fnlwgt</th>\n",
              "      <th>Education</th>\n",
              "      <th>Education-Num</th>\n",
              "      <th>Marital Status</th>\n",
              "      <th>Occupation</th>\n",
              "      <th>Relationship</th>\n",
              "      <th>Race</th>\n",
              "      <th>Sex</th>\n",
              "      <th>Capital Gain</th>\n",
              "      <th>Capital Loss</th>\n",
              "      <th>Hours per week</th>\n",
              "      <th>Country</th>\n",
              "      <th>Target</th>\n",
              "    </tr>\n",
              "  </thead>\n",
              "  <tbody>\n",
              "    <tr>\n",
              "      <th>0</th>\n",
              "      <td>Karrie Trusslove</td>\n",
              "      <td>9/7/1967</td>\n",
              "      <td>732-14-6110</td>\n",
              "      <td>64152.0</td>\n",
              "      <td>39.0</td>\n",
              "      <td>State-gov</td>\n",
              "      <td>77516.0</td>\n",
              "      <td>Bachelors</td>\n",
              "      <td>13.0</td>\n",
              "      <td>Never-married</td>\n",
              "      <td>Adm-clerical</td>\n",
              "      <td>Not-in-family</td>\n",
              "      <td>White</td>\n",
              "      <td>Male</td>\n",
              "      <td>2174.0</td>\n",
              "      <td>0.0</td>\n",
              "      <td>40.0</td>\n",
              "      <td>United-States</td>\n",
              "      <td>&lt;=50K</td>\n",
              "    </tr>\n",
              "    <tr>\n",
              "      <th>1</th>\n",
              "      <td>Brandise Tripony</td>\n",
              "      <td>6/7/1988</td>\n",
              "      <td>150-19-2766</td>\n",
              "      <td>61523.0</td>\n",
              "      <td>50.0</td>\n",
              "      <td>Self-emp-not-inc</td>\n",
              "      <td>83311.0</td>\n",
              "      <td>Bachelors</td>\n",
              "      <td>13.0</td>\n",
              "      <td>Married-civ-spouse</td>\n",
              "      <td>Exec-managerial</td>\n",
              "      <td>Husband</td>\n",
              "      <td>White</td>\n",
              "      <td>Male</td>\n",
              "      <td>0.0</td>\n",
              "      <td>0.0</td>\n",
              "      <td>13.0</td>\n",
              "      <td>United-States</td>\n",
              "      <td>&lt;=50K</td>\n",
              "    </tr>\n",
              "    <tr>\n",
              "      <th>2</th>\n",
              "      <td>Brenn McNeely</td>\n",
              "      <td>8/6/1991</td>\n",
              "      <td>725-59-9860</td>\n",
              "      <td>95668.0</td>\n",
              "      <td>38.0</td>\n",
              "      <td>Private</td>\n",
              "      <td>215646.0</td>\n",
              "      <td>HS-grad</td>\n",
              "      <td>9.0</td>\n",
              "      <td>Divorced</td>\n",
              "      <td>Handlers-cleaners</td>\n",
              "      <td>Not-in-family</td>\n",
              "      <td>White</td>\n",
              "      <td>Male</td>\n",
              "      <td>0.0</td>\n",
              "      <td>0.0</td>\n",
              "      <td>40.0</td>\n",
              "      <td>United-States</td>\n",
              "      <td>&lt;=50K</td>\n",
              "    </tr>\n",
              "    <tr>\n",
              "      <th>3</th>\n",
              "      <td>Dorry Poter</td>\n",
              "      <td>4/6/2009</td>\n",
              "      <td>659-57-4974</td>\n",
              "      <td>25503.0</td>\n",
              "      <td>53.0</td>\n",
              "      <td>Private</td>\n",
              "      <td>234721.0</td>\n",
              "      <td>11th</td>\n",
              "      <td>7.0</td>\n",
              "      <td>Married-civ-spouse</td>\n",
              "      <td>Handlers-cleaners</td>\n",
              "      <td>Husband</td>\n",
              "      <td>Black</td>\n",
              "      <td>Male</td>\n",
              "      <td>0.0</td>\n",
              "      <td>0.0</td>\n",
              "      <td>40.0</td>\n",
              "      <td>United-States</td>\n",
              "      <td>&lt;=50K</td>\n",
              "    </tr>\n",
              "    <tr>\n",
              "      <th>4</th>\n",
              "      <td>Dick Honnan</td>\n",
              "      <td>9/16/1951</td>\n",
              "      <td>220-93-3811</td>\n",
              "      <td>75387.0</td>\n",
              "      <td>28.0</td>\n",
              "      <td>Private</td>\n",
              "      <td>338409.0</td>\n",
              "      <td>Bachelors</td>\n",
              "      <td>13.0</td>\n",
              "      <td>Married-civ-spouse</td>\n",
              "      <td>Prof-specialty</td>\n",
              "      <td>Wife</td>\n",
              "      <td>Black</td>\n",
              "      <td>Female</td>\n",
              "      <td>0.0</td>\n",
              "      <td>0.0</td>\n",
              "      <td>40.0</td>\n",
              "      <td>Cuba</td>\n",
              "      <td>&lt;=50K</td>\n",
              "    </tr>\n",
              "  </tbody>\n",
              "</table>\n",
              "</div>\n",
              "      <button class=\"colab-df-convert\" onclick=\"convertToInteractive('df-a46cc2d9-ff83-40a9-9d14-59a1317e078f')\"\n",
              "              title=\"Convert this dataframe to an interactive table.\"\n",
              "              style=\"display:none;\">\n",
              "        \n",
              "  <svg xmlns=\"http://www.w3.org/2000/svg\" height=\"24px\"viewBox=\"0 0 24 24\"\n",
              "       width=\"24px\">\n",
              "    <path d=\"M0 0h24v24H0V0z\" fill=\"none\"/>\n",
              "    <path d=\"M18.56 5.44l.94 2.06.94-2.06 2.06-.94-2.06-.94-.94-2.06-.94 2.06-2.06.94zm-11 1L8.5 8.5l.94-2.06 2.06-.94-2.06-.94L8.5 2.5l-.94 2.06-2.06.94zm10 10l.94 2.06.94-2.06 2.06-.94-2.06-.94-.94-2.06-.94 2.06-2.06.94z\"/><path d=\"M17.41 7.96l-1.37-1.37c-.4-.4-.92-.59-1.43-.59-.52 0-1.04.2-1.43.59L10.3 9.45l-7.72 7.72c-.78.78-.78 2.05 0 2.83L4 21.41c.39.39.9.59 1.41.59.51 0 1.02-.2 1.41-.59l7.78-7.78 2.81-2.81c.8-.78.8-2.07 0-2.86zM5.41 20L4 18.59l7.72-7.72 1.47 1.35L5.41 20z\"/>\n",
              "  </svg>\n",
              "      </button>\n",
              "      \n",
              "  <style>\n",
              "    .colab-df-container {\n",
              "      display:flex;\n",
              "      flex-wrap:wrap;\n",
              "      gap: 12px;\n",
              "    }\n",
              "\n",
              "    .colab-df-convert {\n",
              "      background-color: #E8F0FE;\n",
              "      border: none;\n",
              "      border-radius: 50%;\n",
              "      cursor: pointer;\n",
              "      display: none;\n",
              "      fill: #1967D2;\n",
              "      height: 32px;\n",
              "      padding: 0 0 0 0;\n",
              "      width: 32px;\n",
              "    }\n",
              "\n",
              "    .colab-df-convert:hover {\n",
              "      background-color: #E2EBFA;\n",
              "      box-shadow: 0px 1px 2px rgba(60, 64, 67, 0.3), 0px 1px 3px 1px rgba(60, 64, 67, 0.15);\n",
              "      fill: #174EA6;\n",
              "    }\n",
              "\n",
              "    [theme=dark] .colab-df-convert {\n",
              "      background-color: #3B4455;\n",
              "      fill: #D2E3FC;\n",
              "    }\n",
              "\n",
              "    [theme=dark] .colab-df-convert:hover {\n",
              "      background-color: #434B5C;\n",
              "      box-shadow: 0px 1px 3px 1px rgba(0, 0, 0, 0.15);\n",
              "      filter: drop-shadow(0px 1px 2px rgba(0, 0, 0, 0.3));\n",
              "      fill: #FFFFFF;\n",
              "    }\n",
              "  </style>\n",
              "\n",
              "      <script>\n",
              "        const buttonEl =\n",
              "          document.querySelector('#df-a46cc2d9-ff83-40a9-9d14-59a1317e078f button.colab-df-convert');\n",
              "        buttonEl.style.display =\n",
              "          google.colab.kernel.accessAllowed ? 'block' : 'none';\n",
              "\n",
              "        async function convertToInteractive(key) {\n",
              "          const element = document.querySelector('#df-a46cc2d9-ff83-40a9-9d14-59a1317e078f');\n",
              "          const dataTable =\n",
              "            await google.colab.kernel.invokeFunction('convertToInteractive',\n",
              "                                                     [key], {});\n",
              "          if (!dataTable) return;\n",
              "\n",
              "          const docLinkHtml = 'Like what you see? Visit the ' +\n",
              "            '<a target=\"_blank\" href=https://colab.research.google.com/notebooks/data_table.ipynb>data table notebook</a>'\n",
              "            + ' to learn more about interactive tables.';\n",
              "          element.innerHTML = '';\n",
              "          dataTable['output_type'] = 'display_data';\n",
              "          await google.colab.output.renderOutput(dataTable, element);\n",
              "          const docLink = document.createElement('div');\n",
              "          docLink.innerHTML = docLinkHtml;\n",
              "          element.appendChild(docLink);\n",
              "        }\n",
              "      </script>\n",
              "    </div>\n",
              "  </div>\n",
              "  "
            ]
          },
          "metadata": {},
          "execution_count": 2
        }
      ]
    },
    {
      "cell_type": "markdown",
      "source": [
        "# Above Threshold SVT\n",
        "\n",
        "This can be considered the most basic implementation of the SVT. The implementation is as follows: \n",
        "A stream of sensitivity-1 queries, a dataset *D*, a threshold *T*, and the privacy parameter *ε* are inputed to the algorithm.\n",
        "\n",
        "The goal of this algorithm is to return the index of the first query in queries that exceeds the threshold."
      ],
      "metadata": {
        "id": "hX1NJvtmPZZp"
      }
    },
    {
      "cell_type": "markdown",
      "source": [
        "The following is an implementation of the most vasic form of the sparse vector technique. The algorithm takes in sensitivity-1 queries, a dataset, a threshold, and the privacy parameter.\n",
        "\n"
      ],
      "metadata": {
        "id": "RDOcqR7w76Wj"
      }
    },
    {
      "cell_type": "code",
      "source": [
        "# preserves epsilon-differential privacy\n",
        "def above_threshold(queries, df, T, epsilon):\n",
        "    T_hat = T + np.random.laplace(loc=0, scale = 2/epsilon) # T_hat is the noisy threshold \n",
        "    for idx, q in enumerate(queries):\n",
        "        nu_i = np.random.laplace(loc=0, scale = 4/epsilon)\n",
        "        if q(df) + nu_i >= T_hat: # The noisy query answers are compared to the noisy threshold\n",
        "            return idx # Algorithm returns the first index that succeeds\n",
        "    # The algorithm will return a random index if it fails\n",
        "    return random.randint(0,len(queries)-1)\n",
        "\n",
        "def above_threshold_fail_signal(queries, df, T, epsilon):\n",
        "    T_hat = T + np.random.laplace(loc=0, scale = 2/epsilon)   \n",
        "    for idx, q in enumerate(queries):\n",
        "        nu_i = np.random.laplace(loc=0, scale = 4/epsilon)\n",
        "        if q(df) + nu_i >= T_hat:\n",
        "            return idx\n",
        "    # as a \"fail\" signal it returns an invalid index\n",
        "    return None"
      ],
      "metadata": {
        "id": "aw8o1e6hQfeW"
      },
      "execution_count": 3,
      "outputs": []
    },
    {
      "cell_type": "markdown",
      "source": [
        "The privacy cost of the above threshold algorithm is just ε. \n",
        "\n"
      ],
      "metadata": {
        "id": "T9kNVe3mKexG"
      }
    },
    {
      "cell_type": "markdown",
      "source": [
        "# Correct Implementation of SVT"
      ],
      "metadata": {
        "id": "zPJbx3v8aQOa"
      }
    },
    {
      "cell_type": "code",
      "source": [
        "# defining the laplace mechanism, which accepts the queries, the sensitivity, and epsilon\n",
        "\n",
        "def laplace_mechanism(q, s, e):\n",
        "    return q + np.random.laplace(loc=0, scale=s / e)"
      ],
      "metadata": {
        "id": "uNhY_-fLrFBP"
      },
      "execution_count": 4,
      "outputs": []
    },
    {
      "cell_type": "markdown",
      "source": [
        "The algorithm runs above threshold once and Laplace mechanism twice, and both use 1/3 the privacy budget. It satisifies ε-privacy because of sequential composition. "
      ],
      "metadata": {
        "id": "S8U4jVKGEHuO"
      }
    },
    {
      "cell_type": "code",
      "source": [
        "def auto_avg(df, epsilon):\n",
        "    def create_query(b):\n",
        "        return lambda df: df.clip(lower=0, upper=b).sum() - df.clip(lower=0, upper=b+1).sum()\n",
        "\n",
        "    # Construct the stream of queries\n",
        "    bs = range(1,150000,5)\n",
        "    queries = [create_query(b) for b in bs]\n",
        "    \n",
        "    # Run AboveThreshold, using 1/3 of the privacy budget, to find a good clipping parameter\n",
        "    epsilon_svt = epsilon / 3\n",
        "    final_b = bs[above_threshold(queries, df, 0, epsilon_svt)]\n",
        "\n",
        "    # Compute the noisy sum and noisy count, using 1/3 of the privacy budget for each\n",
        "    epsilon_sum = epsilon / 3\n",
        "    epsilon_count = epsilon / 3\n",
        "    \n",
        "    noisy_sum = laplace_mechanism(df.clip(lower=0, upper=final_b).sum(), final_b, epsilon_sum)\n",
        "    noisy_count = laplace_mechanism(len(df), 1, epsilon_count)\n",
        "    \n",
        "    return noisy_sum/noisy_count\n",
        "\n",
        "val = auto_avg(df['Age'], 1)\n",
        "print(val)"
      ],
      "metadata": {
        "colab": {
          "base_uri": "https://localhost:8080/"
        },
        "id": "pn2ovMYuvaKN",
        "outputId": "5188bc2a-6f6e-4f7d-b037-60e68ad12e67"
      },
      "execution_count": 5,
      "outputs": [
        {
          "output_type": "stream",
          "name": "stdout",
          "text": [
            "38.48660258280501\n"
          ]
        }
      ]
    },
    {
      "cell_type": "markdown",
      "source": [
        "# Incorrect Implementation of SVT"
      ],
      "metadata": {
        "id": "lJQJHTpXzisn"
      }
    },
    {
      "cell_type": "code",
      "source": [
        "def auto_avg(df, epsilon):\n",
        "    def create_query(b):\n",
        "        return lambda df: df.clip(lower=0, upper=b).sum() - df.clip(lower=0, upper=b+1).sum()\n",
        "\n",
        "    # Construct the stream of queries\n",
        "    print(\"epsilon under stream of queries\")\n",
        "    print(epsilon)\n",
        "    bs = range(1,150000,5)\n",
        "    queries = [create_query(b) for b in bs]\n",
        "    \n",
        "    # Run AboveThreshold, using 1/3 of the privacy budget, to find a good clipping parameter\n",
        "    epsilon_svt = epsilon / 3\n",
        "    print(\"epsilon svt\")\n",
        "    print(epsilon_svt)\n",
        "    final_b = bs[above_threshold(queries, df, 0, epsilon_svt)]\n",
        "\n",
        "    # Compute the noisy sum and noisy count, using 1/3 of the privacy budget for each\n",
        "    epsilon_sum = epsilon / 2\n",
        "    print(\"eps sum\")\n",
        "    print(epsilon_sum)\n",
        "\n",
        "    epsilon_count = epsilon / 3\n",
        "    print(\"eps count\")\n",
        "    print(epsilon_count)\n",
        "    \n",
        "    noisy_sum = laplace_mechanism(df.clip(lower=0, upper=final_b).sum(), final_b, epsilon_sum)\n",
        "    noisy_count = laplace_mechanism(len(df), 1, epsilon_count)\n",
        "    \n",
        "    return noisy_sum/noisy_count\n",
        "\n",
        "val = auto_avg(df['Age'], 1)\n",
        "print(val)\n"
      ],
      "metadata": {
        "colab": {
          "base_uri": "https://localhost:8080/"
        },
        "id": "gIbyUYbfznYD",
        "outputId": "f47d39bf-dbc7-4aee-cc93-341ed6825462"
      },
      "execution_count": 8,
      "outputs": [
        {
          "output_type": "stream",
          "name": "stdout",
          "text": [
            "epsilon under stream of queries\n",
            "1\n",
            "epsilon svt\n",
            "0.3333333333333333\n",
            "eps sum\n",
            "0.5\n",
            "eps count\n",
            "0.3333333333333333\n",
            "38.476631975287745\n"
          ]
        }
      ]
    },
    {
      "cell_type": "markdown",
      "source": [
        "In the incorrect implementation of SVT, the noise added is not scaling the same way and does not have sequential composition. "
      ],
      "metadata": {
        "id": "JyDaOESHEeF9"
      }
    },
    {
      "cell_type": "markdown",
      "source": [
        "# Citations\n",
        "---\n",
        "\n",
        "Papers:\n",
        "\n",
        "*   https://arxiv.org/pdf/1904.12773.pdf\n",
        "*   https://arxiv.org/pdf/1805.10277.pdf\n",
        "*   https://link.springer.com/chapter/10.1007/978-3-540-79228-4_1\n",
        "\n",
        "All the code above was written using the tutorial found here: https://programming-dp.com/ch10.html\n",
        "\n"
      ],
      "metadata": {
        "id": "HROSuEoQFPK-"
      }
    }
  ]
}
